{
 "cells": [
  {
   "cell_type": "code",
   "execution_count": 13,
   "id": "6143583e",
   "metadata": {},
   "outputs": [],
   "source": [
    "import pandas as pd\n",
    "import numpy as np\n",
    "\n",
    "import matplotlib.pyplot as plt\n",
    "import seaborn as sns\n",
    "\n",
    "import warnings\n",
    "warnings.filterwarnings('ignore')"
   ]
  },
  {
   "cell_type": "markdown",
   "id": "1bd25f24",
   "metadata": {},
   "source": [
    "* **Sets** help us organize and analyze outcomes in probability.\n",
    "* **Event** specific outcome or combination of outcomes from a probability experiment."
   ]
  },
  {
   "cell_type": "markdown",
   "id": "4ba6bbea",
   "metadata": {},
   "source": [
    "### Operations with sets\n",
    "\n",
    "Union and intersection are two important concepts in probability when dealing with events.\n",
    "\n",
    "1) Union `(A ∪ B)`: All outcomes in either event or both.\n",
    "2) Intersection `(A ∩ B)`: Only the outcomes common to both events."
   ]
  },
  {
   "cell_type": "markdown",
   "id": "64b78823",
   "metadata": {},
   "source": [
    "**Question:** Rolling a die and checking for even numbers and numbers greater than 3."
   ]
  },
  {
   "cell_type": "code",
   "execution_count": 14,
   "id": "4f32f7f8",
   "metadata": {},
   "outputs": [
    {
     "name": "stdout",
     "output_type": "stream",
     "text": [
      "Intersection (A ∩ B): {4, 6}\n"
     ]
    }
   ],
   "source": [
    "# Intersection\n",
    "\n",
    "# Possible outcomes when rolling a die\n",
    "outcomes = {1, 2, 3, 4, 5, 6}\n",
    "\n",
    "# Define events\n",
    "event_A = {2, 4, 6}  # Rolling an even number\n",
    "event_B = {4, 5, 6}  # Rolling a number greater than 3\n",
    "\n",
    "# Intersection: Outcomes common to both events\n",
    "intersection_AB = event_A.intersection(event_B)\n",
    "\n",
    "print(\"Intersection (A ∩ B):\", intersection_AB)"
   ]
  },
  {
   "cell_type": "markdown",
   "id": "5f48169d",
   "metadata": {},
   "source": [
    "**Question:** Same die roll, finding all possible outcomes of rolling an even number or a number greater than 3."
   ]
  },
  {
   "cell_type": "code",
   "execution_count": 15,
   "id": "8ebff57e",
   "metadata": {},
   "outputs": [
    {
     "name": "stdout",
     "output_type": "stream",
     "text": [
      "Union (A ∪ B): {2, 4, 5, 6}\n"
     ]
    }
   ],
   "source": [
    "# Union: Outcomes that are in either event or both\n",
    "union_AB = event_A.union(event_B)\n",
    "\n",
    "print(\"Union (A ∪ B):\", union_AB)"
   ]
  },
  {
   "cell_type": "code",
   "execution_count": null,
   "id": "58bec585",
   "metadata": {},
   "outputs": [],
   "source": []
  },
  {
   "cell_type": "markdown",
   "id": "c5779277",
   "metadata": {},
   "source": [
    "#### In probability theory, marginal, joint, and conditional probabilities are fundamental concepts used to understand and calculate the likelihood of events."
   ]
  },
  {
   "cell_type": "markdown",
   "id": "1406472c",
   "metadata": {},
   "source": [
    "### Marginal probability\n",
    "Marginal probability refers to the probability of a single event occurring, irrespective of the outcome of other events."
   ]
  },
  {
   "cell_type": "markdown",
   "id": "f478917a",
   "metadata": {},
   "source": [
    "**Question** You have a standard 6-sided die. What is the probability of rolling an even number?"
   ]
  },
  {
   "cell_type": "code",
   "execution_count": 16,
   "id": "dfe6721e",
   "metadata": {},
   "outputs": [
    {
     "name": "stdout",
     "output_type": "stream",
     "text": [
      "Marginal Probability of A (even number): 0.5\n"
     ]
    }
   ],
   "source": [
    "# Total outcomes\n",
    "total_outcomes = len(outcomes)\n",
    "\n",
    "# Probability of event A (even number)\n",
    "prob_A = len(event_A) / total_outcomes\n",
    "\n",
    "print(\"Marginal Probability of A (even number):\", prob_A)"
   ]
  },
  {
   "cell_type": "code",
   "execution_count": 17,
   "id": "0b65be46",
   "metadata": {},
   "outputs": [
    {
     "data": {
      "text/plain": [
       "3"
      ]
     },
     "execution_count": 17,
     "metadata": {},
     "output_type": "execute_result"
    }
   ],
   "source": [
    "len(event_A)"
   ]
  },
  {
   "cell_type": "code",
   "execution_count": 11,
   "id": "216ddc3d",
   "metadata": {},
   "outputs": [
    {
     "data": {
      "text/plain": [
       "6"
      ]
     },
     "execution_count": 11,
     "metadata": {},
     "output_type": "execute_result"
    }
   ],
   "source": [
    "total_outcomes"
   ]
  },
  {
   "cell_type": "code",
   "execution_count": 20,
   "id": "b14bc198",
   "metadata": {},
   "outputs": [
    {
     "data": {
      "text/plain": [
       "50.0"
      ]
     },
     "execution_count": 20,
     "metadata": {},
     "output_type": "execute_result"
    }
   ],
   "source": [
    "3/6 * 100"
   ]
  },
  {
   "cell_type": "markdown",
   "id": "d925d0c6",
   "metadata": {},
   "source": [
    "### Joint probability\n",
    "It represents the likelihood of both events happening at the same time."
   ]
  },
  {
   "cell_type": "markdown",
   "id": "e8cbba3b",
   "metadata": {},
   "source": [
    "**Question:** You roll a standard 6-sided die and flip a coin. What is the probability of rolling a 4 and getting heads?"
   ]
  },
  {
   "cell_type": "code",
   "execution_count": 8,
   "id": "5b5cdbe5",
   "metadata": {},
   "outputs": [
    {
     "name": "stdout",
     "output_type": "stream",
     "text": [
      "Joint Probability of rolling a 4 and getting Heads: 0.08333333333333333\n"
     ]
    }
   ],
   "source": [
    "import random\n",
    "\n",
    "# Define probabilities\n",
    "prob_roll_4 = 1 / 6  # Probability of rolling a 4\n",
    "prob_heads = 1 / 2   # Probability of getting Heads\n",
    "\n",
    "# Joint probability\n",
    "joint_probability = prob_roll_4 * prob_heads\n",
    "\n",
    "print(\"Joint Probability of rolling a 4 and getting Heads:\", joint_probability)"
   ]
  },
  {
   "cell_type": "markdown",
   "id": "49223e41",
   "metadata": {},
   "source": [
    "**Note:** Joint Probability is useful when you're interested in the likelihood of multiple conditions being satisfied at once."
   ]
  },
  {
   "cell_type": "code",
   "execution_count": null,
   "id": "b39414ba",
   "metadata": {},
   "outputs": [],
   "source": []
  },
  {
   "cell_type": "markdown",
   "id": "8eb5e0e5",
   "metadata": {},
   "source": [
    "### Conditional Probability\n",
    "Conditional probability is the probability of one event occurring given that another event has already occurred.\n",
    "\n",
    "![image.png](cond.png)"
   ]
  },
  {
   "cell_type": "markdown",
   "id": "5f228f7f",
   "metadata": {},
   "source": [
    "**Question:** If you know that the number you rolled on a die is an even number, what’s the chance that it is specifically a 4"
   ]
  },
  {
   "cell_type": "code",
   "execution_count": 9,
   "id": "70d4cf58",
   "metadata": {},
   "outputs": [
    {
     "name": "stdout",
     "output_type": "stream",
     "text": [
      "Probability of rolling a 4 (P(A)): 0.16666666666666666\n",
      "Probability of rolling an even number (P(B)): 0.5\n",
      "Probability of A and B happening together (P(A and B)): 0.16666666666666666\n",
      "Conditional Probability of rolling a 4 given it's an even number (P(A|B)): 0.3333333333333333\n"
     ]
    }
   ],
   "source": [
    "# Total outcomes on a die (1 to 6)\n",
    "total_outcomes = 6\n",
    "\n",
    "# Event A: Rolling a 4\n",
    "event_A = 1  # There's 1 outcome where you roll a 4\n",
    "\n",
    "# Event B: Rolling an even number (2, 4, 6)\n",
    "event_B = 3  # There are 3 outcomes where you roll an even number\n",
    "\n",
    "# Probability of Event A (rolling a 4)\n",
    "prob_A = event_A / total_outcomes\n",
    "\n",
    "# Probability of Event B (rolling an even number)\n",
    "prob_B = event_B / total_outcomes\n",
    "\n",
    "# Probability of A and B happening together (since A is a subset of B)\n",
    "prob_A_and_B = prob_A\n",
    "\n",
    "# Conditional Probability of A given B\n",
    "prob_A_given_B = prob_A_and_B / prob_B\n",
    "\n",
    "# Print results\n",
    "print(\"Probability of rolling a 4 (P(A)):\", prob_A)\n",
    "print(\"Probability of rolling an even number (P(B)):\", prob_B)\n",
    "print(\"Probability of A and B happening together (P(A and B)):\", prob_A_and_B)\n",
    "print(\"Conditional Probability of rolling a 4 given it's an even number (P(A|B)):\", prob_A_given_B)"
   ]
  },
  {
   "cell_type": "code",
   "execution_count": null,
   "id": "0ac18e85",
   "metadata": {},
   "outputs": [],
   "source": []
  },
  {
   "cell_type": "code",
   "execution_count": null,
   "id": "0a75c881",
   "metadata": {},
   "outputs": [],
   "source": [
    "* `prob_A_and_B = prob_A`: A is a subset of B, Every time I roll a 4, technically it will be a Even number\n",
    "    \n",
    "    \n",
    "    Outcomes for Even Number: {2,4,6}\n",
    "    \n",
    "    Thus, Chance of it being a 4? 1\n",
    "    \n",
    "    Therefore, prob_Aand_B = prob_A"
   ]
  },
  {
   "cell_type": "code",
   "execution_count": null,
   "id": "fb8ce552",
   "metadata": {},
   "outputs": [],
   "source": []
  }
 ],
 "metadata": {
  "kernelspec": {
   "display_name": "Python 3 (ipykernel)",
   "language": "python",
   "name": "python3"
  },
  "language_info": {
   "codemirror_mode": {
    "name": "ipython",
    "version": 3
   },
   "file_extension": ".py",
   "mimetype": "text/x-python",
   "name": "python",
   "nbconvert_exporter": "python",
   "pygments_lexer": "ipython3",
   "version": "3.10.12"
  }
 },
 "nbformat": 4,
 "nbformat_minor": 5
}
