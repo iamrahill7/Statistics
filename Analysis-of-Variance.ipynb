{
 "cells": [
  {
   "cell_type": "markdown",
   "id": "68673075",
   "metadata": {},
   "source": [
    "# 🔍 ANOVA - Analysis of Variance"
   ]
  },
  {
   "cell_type": "markdown",
   "id": "9b8e8f1f",
   "metadata": {},
   "source": [
    "* **One-Way ANOVA** is often simply referred to as **ANOVA.**\n",
    "\n",
    "* One-Way ANOVA (Analysis of Variance) is a statistical method used to compare the means of three or more groups to determine if there is a significant difference between them.\n",
    "\n",
    "* It is used when one variable is categorical and other continuous.\n",
    "\n",
    "* For example, we may want to compare the average test scores of students taught using different teaching methods (the factor here is the teaching method\n",
    "\n",
    "* ANOVA examines the variability between the groups (how different the group means are) and compares it to the variability within each group (how much data points vary within each group).\n",
    "\n",
    "* It calculates an F-statistic, which tells us whether the differences between the group means are large enough to be statistically significant."
   ]
  },
  {
   "cell_type": "markdown",
   "id": "6537b699",
   "metadata": {},
   "source": [
    "Data:\n",
    "```\n",
    "Diet A: 5, 6, 7, 5, 6\n",
    "Diet B: 8, 9, 6, 7, 8\n",
    "Diet C: 2, 3, 4, 3, 2\n",
    "```\n",
    "Objective:\n",
    "\n",
    "Test if the weight loss means for the three diets are significantly different."
   ]
  },
  {
   "cell_type": "code",
   "execution_count": 1,
   "id": "bcf6e868",
   "metadata": {},
   "outputs": [
    {
     "name": "stdout",
     "output_type": "stream",
     "text": [
      "F-statistic: 32.66666666666667\n",
      "P-value: 1.3960053904813178e-05\n",
      "There is a significant difference between the diets.\n"
     ]
    }
   ],
   "source": [
    "import scipy.stats as stats\n",
    "\n",
    "# Weight loss data for each diet\n",
    "diet_A = [5, 6, 7, 5, 6]\n",
    "diet_B = [8, 9, 6, 7, 8]\n",
    "diet_C = [2, 3, 4, 3, 2]\n",
    "\n",
    "# Perform one-way ANOVA\n",
    "f_stat, p_value = stats.f_oneway(diet_A, diet_B, diet_C)\n",
    "\n",
    "# Output the results\n",
    "print(f\"F-statistic: {f_stat}\")\n",
    "print(f\"P-value: {p_value}\")\n",
    "\n",
    "# Conclusion based on p-value\n",
    "if p_value < 0.05:  # Usually, 0.05 is used as the significance level\n",
    "    print(\"There is a significant difference between the diets.\")\n",
    "else:\n",
    "    print(\"No significant difference between the diets.\")\n"
   ]
  },
  {
   "cell_type": "markdown",
   "id": "c893938a",
   "metadata": {},
   "source": [
    "* We use `stats.f_oneway()` to perform the One-Way ANOVA. This function returns the F-statistic and the p-value.\n",
    "* The p-value helps us decide whether to reject the null hypothesis.\n",
    "* If the p-value is less than 0.05, we conclude that there is a significant difference between at least one of the groups."
   ]
  },
  {
   "cell_type": "markdown",
   "id": "c648ffb7",
   "metadata": {},
   "source": [
    "### F-statistic\n",
    "* The F-statistic tells us if the differences between group averages are bigger than we’d expect.\n",
    "* If you compare three diets and get an F-statistic of 33 (like in our previous example), it’s a big number, meaning the diets probably cause different amounts of weight loss. \n",
    "* If the F-statistic were small (like 1 or 2), the diets would likely have similar effect"
   ]
  },
  {
   "cell_type": "markdown",
   "id": "32ccabd1",
   "metadata": {},
   "source": [
    "Scenario:\n",
    "You have three groups of students, each taught using a different method (Method 1, Method 2, and Method 3). After the course, you measure their test scores.\n",
    "```\n",
    "Method 1 scores: 85, 90, 88, 92, 85\n",
    "Method 2 scores: 78, 82, 84, 80, 81\n",
    "Method 3 scores: 91, 95, 94, 92, 90\n",
    "```\n",
    "Goal:\n",
    "We want to see if the teaching methods lead to different average test scores, or if the differences in the scores happened by chance."
   ]
  },
  {
   "cell_type": "code",
   "execution_count": 2,
   "id": "d4a0b44a",
   "metadata": {},
   "outputs": [
    {
     "name": "stdout",
     "output_type": "stream",
     "text": [
      "F-statistic: 26.372340425531938\n",
      "P-value: 4.0538055202862745e-05\n",
      "There is a significant difference between the teaching methods.\n"
     ]
    }
   ],
   "source": [
    "import scipy.stats as stats\n",
    "\n",
    "# Test scores for each method\n",
    "method_1 = [85, 90, 88, 92, 85]\n",
    "method_2 = [78, 82, 84, 80, 81]\n",
    "method_3 = [91, 95, 94, 92, 90]\n",
    "\n",
    "# Perform one-way ANOVA\n",
    "f_stat, p_value = stats.f_oneway(method_1, method_2, method_3)\n",
    "\n",
    "# Output the results\n",
    "print(f\"F-statistic: {f_stat}\")\n",
    "print(f\"P-value: {p_value}\")\n",
    "\n",
    "# Conclusion based on p-value\n",
    "if p_value < 0.05:  # Assuming 0.05 is our significance level\n",
    "    print(\"There is a significant difference between the teaching methods.\")\n",
    "else:\n",
    "    print(\"No significant difference between the teaching methods.\")\n"
   ]
  },
  {
   "cell_type": "markdown",
   "id": "f074e271",
   "metadata": {},
   "source": [
    "Example:\n",
    "\n",
    "A firm wishes to compare 4 programmes for training workers to perform a certain task. 20 new employees are randomly assigned to these programmes with 5 in each. At the end of the training, a test is conducted to see how quickly the trainees perform that task. The number of times the task is performed per hour is recorded for each trainee Perform ANOVA to check the effectiveness of the programme. (Assume the level of significance = 0.05)"
   ]
  },
  {
   "cell_type": "code",
   "execution_count": 3,
   "id": "ba6a4a85",
   "metadata": {},
   "outputs": [
    {
     "name": "stdout",
     "output_type": "stream",
     "text": [
      "F-statistic: 56.96969696969689\n",
      "P-value: 9.2528147867333e-09\n",
      "There is a significant difference between the training programs.\n"
     ]
    }
   ],
   "source": [
    "import scipy.stats as stats\n",
    "\n",
    "# Test scores for each program\n",
    "program_A = [8, 9, 7, 8, 9]\n",
    "program_B = [6, 7, 6, 7, 6]\n",
    "program_C = [10, 11, 10, 12, 11]\n",
    "program_D = [5, 5, 6, 4, 5]\n",
    "\n",
    "# Perform One-Way ANOVA\n",
    "f_stat, p_value = stats.f_oneway(program_A, program_B, program_C, program_D)\n",
    "\n",
    "# Print the F-statistic and p-value\n",
    "print(f\"F-statistic: {f_stat}\")\n",
    "print(f\"P-value: {p_value}\")\n",
    "\n",
    "# Conclusion based on p-value\n",
    "if p_value < 0.05:  # Significance level of 0.05\n",
    "    print(\"There is a significant difference between the training programs.\")\n",
    "else:\n",
    "    print(\"There is no significant difference between the training programs.\")\n"
   ]
  },
  {
   "cell_type": "code",
   "execution_count": null,
   "id": "e3bc69de",
   "metadata": {},
   "outputs": [],
   "source": []
  },
  {
   "cell_type": "code",
   "execution_count": 9,
   "id": "5ed23e81",
   "metadata": {},
   "outputs": [
    {
     "data": {
      "text/html": [
       "<div>\n",
       "<style scoped>\n",
       "    .dataframe tbody tr th:only-of-type {\n",
       "        vertical-align: middle;\n",
       "    }\n",
       "\n",
       "    .dataframe tbody tr th {\n",
       "        vertical-align: top;\n",
       "    }\n",
       "\n",
       "    .dataframe thead th {\n",
       "        text-align: right;\n",
       "    }\n",
       "</style>\n",
       "<table border=\"1\" class=\"dataframe\">\n",
       "  <thead>\n",
       "    <tr style=\"text-align: right;\">\n",
       "      <th></th>\n",
       "      <th>species</th>\n",
       "      <th>island</th>\n",
       "      <th>bill_length_mm</th>\n",
       "      <th>bill_depth_mm</th>\n",
       "      <th>flipper_length_mm</th>\n",
       "      <th>body_mass_g</th>\n",
       "      <th>sex</th>\n",
       "    </tr>\n",
       "  </thead>\n",
       "  <tbody>\n",
       "    <tr>\n",
       "      <th>0</th>\n",
       "      <td>Adelie</td>\n",
       "      <td>Torgersen</td>\n",
       "      <td>39.1</td>\n",
       "      <td>18.7</td>\n",
       "      <td>181.0</td>\n",
       "      <td>3750.0</td>\n",
       "      <td>Male</td>\n",
       "    </tr>\n",
       "    <tr>\n",
       "      <th>1</th>\n",
       "      <td>Adelie</td>\n",
       "      <td>Torgersen</td>\n",
       "      <td>39.5</td>\n",
       "      <td>17.4</td>\n",
       "      <td>186.0</td>\n",
       "      <td>3800.0</td>\n",
       "      <td>Female</td>\n",
       "    </tr>\n",
       "    <tr>\n",
       "      <th>2</th>\n",
       "      <td>Adelie</td>\n",
       "      <td>Torgersen</td>\n",
       "      <td>40.3</td>\n",
       "      <td>18.0</td>\n",
       "      <td>195.0</td>\n",
       "      <td>3250.0</td>\n",
       "      <td>Female</td>\n",
       "    </tr>\n",
       "    <tr>\n",
       "      <th>3</th>\n",
       "      <td>Adelie</td>\n",
       "      <td>Torgersen</td>\n",
       "      <td>NaN</td>\n",
       "      <td>NaN</td>\n",
       "      <td>NaN</td>\n",
       "      <td>NaN</td>\n",
       "      <td>NaN</td>\n",
       "    </tr>\n",
       "    <tr>\n",
       "      <th>4</th>\n",
       "      <td>Adelie</td>\n",
       "      <td>Torgersen</td>\n",
       "      <td>36.7</td>\n",
       "      <td>19.3</td>\n",
       "      <td>193.0</td>\n",
       "      <td>3450.0</td>\n",
       "      <td>Female</td>\n",
       "    </tr>\n",
       "  </tbody>\n",
       "</table>\n",
       "</div>"
      ],
      "text/plain": [
       "  species     island  bill_length_mm  bill_depth_mm  flipper_length_mm  \\\n",
       "0  Adelie  Torgersen            39.1           18.7              181.0   \n",
       "1  Adelie  Torgersen            39.5           17.4              186.0   \n",
       "2  Adelie  Torgersen            40.3           18.0              195.0   \n",
       "3  Adelie  Torgersen             NaN            NaN                NaN   \n",
       "4  Adelie  Torgersen            36.7           19.3              193.0   \n",
       "\n",
       "   body_mass_g     sex  \n",
       "0       3750.0    Male  \n",
       "1       3800.0  Female  \n",
       "2       3250.0  Female  \n",
       "3          NaN     NaN  \n",
       "4       3450.0  Female  "
      ]
     },
     "execution_count": 9,
     "metadata": {},
     "output_type": "execute_result"
    }
   ],
   "source": [
    "import seaborn as sns\n",
    "import scipy.stats as stats\n",
    "\n",
    "# Load the Seaborn dataset\n",
    "penguins = sns.load_dataset('penguins')\n",
    "\n",
    "penguins.head()"
   ]
  },
  {
   "cell_type": "code",
   "execution_count": 10,
   "id": "74f819ad",
   "metadata": {},
   "outputs": [],
   "source": [
    "# Drop rows with missing values in the 'bill_length_mm' and 'species' columns\n",
    "penguins = penguins.dropna(subset=['bill_length_mm', 'species'])"
   ]
  },
  {
   "cell_type": "code",
   "execution_count": 11,
   "id": "81aad490",
   "metadata": {},
   "outputs": [],
   "source": [
    "# Extract bill length for each species\n",
    "species_A = penguins[penguins['species'] == 'Adelie']['bill_length_mm']\n",
    "species_B = penguins[penguins['species'] == 'Chinstrap']['bill_length_mm']\n",
    "species_C = penguins[penguins['species'] == 'Gentoo']['bill_length_mm']\n"
   ]
  },
  {
   "cell_type": "code",
   "execution_count": 12,
   "id": "238cce40",
   "metadata": {},
   "outputs": [
    {
     "name": "stdout",
     "output_type": "stream",
     "text": [
      "F-statistic: 410.6002550405077\n",
      "P-value: 2.6946137388895484e-91\n"
     ]
    }
   ],
   "source": [
    "# Perform One-Way ANOVA\n",
    "f_stat, p_value = stats.f_oneway(species_A, species_B, species_C)\n",
    "\n",
    "# Print the F-statistic and p-value\n",
    "print(f\"F-statistic: {f_stat}\")\n",
    "print(f\"P-value: {p_value}\")\n",
    "\n"
   ]
  },
  {
   "cell_type": "code",
   "execution_count": 13,
   "id": "eb43c609",
   "metadata": {},
   "outputs": [
    {
     "name": "stdout",
     "output_type": "stream",
     "text": [
      "There is a significant difference in bill length between species.\n"
     ]
    }
   ],
   "source": [
    "# Conclusion based on p-value\n",
    "if p_value < 0.05:  # Significance level of 0.05\n",
    "    print(\"There is a significant difference in bill length between species.\")\n",
    "else:\n",
    "    print(\"There is no significant difference in bill length between species.\")"
   ]
  },
  {
   "cell_type": "markdown",
   "id": "e1150e78",
   "metadata": {},
   "source": [
    "## Post Hoc Test\n",
    "* Its purpose is to identify which specific groups are significantly different from each other.\n",
    "\n",
    "* Example:\n",
    "\n",
    "1) A pairwise comparison is a comparison between two separate groups (e.g., a comparison between the ”Male\" and ”Female” groups).\n",
    "\n",
    "2) Common post hoc tests test for all possible combinations of these pairwise comparisons – Male & Female, Male & Do not prefer to say, Female & Do not prefer to say"
   ]
  },
  {
   "cell_type": "code",
   "execution_count": 15,
   "id": "7f860aa0",
   "metadata": {},
   "outputs": [
    {
     "name": "stdout",
     "output_type": "stream",
     "text": [
      "   Multiple Comparison of Means - Tukey HSD, FWER=0.05   \n",
      "=========================================================\n",
      "  group1    group2  meandiff p-adj   lower  upper  reject\n",
      "---------------------------------------------------------\n",
      "   Adelie Chinstrap  10.0424    0.0  9.0249  11.06   True\n",
      "   Adelie    Gentoo   8.7135    0.0  7.8672 9.5598   True\n",
      "Chinstrap    Gentoo  -1.3289 0.0089 -2.3819 -0.276   True\n",
      "---------------------------------------------------------\n"
     ]
    }
   ],
   "source": [
    "from statsmodels.stats.multicomp import pairwise_tukeyhsd\n",
    "\n",
    "# Perform Tukey's HSD test\n",
    "tukey_result = pairwise_tukeyhsd(endog=penguins['bill_length_mm'], groups=penguins['species'], alpha=0.05)\n",
    "\n",
    "# Print the result\n",
    "print(tukey_result)"
   ]
  },
  {
   "cell_type": "markdown",
   "id": "1c522a69",
   "metadata": {},
   "source": [
    "* The `pairwise_tukeyhsd()` function compares the means of bill_length_mm across the three penguin species (Adelie, Chinstrap, Gentoo) to determine if there are significant differences between species"
   ]
  },
  {
   "cell_type": "markdown",
   "id": "fc960c63",
   "metadata": {},
   "source": [
    "**Explanation:**\n",
    "\n",
    "* For each pair of penguin species, the mean difference in bill length is calculated.\n",
    "* The reject column indicates whether the null hypothesis (that the means are equal) is rejected (True) or not (False).\n",
    "* In this example, all pairs have True, meaning there are significant differences in bill length between all species."
   ]
  },
  {
   "cell_type": "code",
   "execution_count": null,
   "id": "89f47481",
   "metadata": {},
   "outputs": [],
   "source": []
  },
  {
   "cell_type": "code",
   "execution_count": 17,
   "id": "dd6aaf50",
   "metadata": {},
   "outputs": [],
   "source": [
    "# Import the required libraries\n",
    "import pandas as pd\n",
    "from statsmodels.stats.multicomp import pairwise_tukeyhsd, MultiComparison\n",
    "\n",
    "# Create a DataFrame of the groups (correcting the data and syntax)\n",
    "df_programme = pd.DataFrame({\n",
    "    'programme_1': [9, 12, 14, 11, 13],\n",
    "    'programme_2': [10, 6, 9, 9, 10],\n",
    "    'programme_3': [12, 14, 11, 13, 11],\n",
    "    'programme_4': [9, 8, 11, 7, 8]\n",
    "})\n",
    "\n",
    "# Stack the data and reset the index\n",
    "stacked_data = df_programme.stack().reset_index()\n",
    "\n",
    "# Rename the columns\n",
    "stacked_data = stacked_data.rename(columns={'level_0': 'id', 'level_1': 'programme', 0: 'number_of_tasks'})\n"
   ]
  },
  {
   "cell_type": "code",
   "execution_count": 20,
   "id": "985effd0",
   "metadata": {},
   "outputs": [
    {
     "data": {
      "text/html": [
       "<div>\n",
       "<style scoped>\n",
       "    .dataframe tbody tr th:only-of-type {\n",
       "        vertical-align: middle;\n",
       "    }\n",
       "\n",
       "    .dataframe tbody tr th {\n",
       "        vertical-align: top;\n",
       "    }\n",
       "\n",
       "    .dataframe thead th {\n",
       "        text-align: right;\n",
       "    }\n",
       "</style>\n",
       "<table border=\"1\" class=\"dataframe\">\n",
       "  <thead>\n",
       "    <tr style=\"text-align: right;\">\n",
       "      <th></th>\n",
       "      <th>id</th>\n",
       "      <th>programme</th>\n",
       "      <th>number_of_tasks</th>\n",
       "    </tr>\n",
       "  </thead>\n",
       "  <tbody>\n",
       "    <tr>\n",
       "      <th>0</th>\n",
       "      <td>0</td>\n",
       "      <td>programme_1</td>\n",
       "      <td>9</td>\n",
       "    </tr>\n",
       "    <tr>\n",
       "      <th>1</th>\n",
       "      <td>0</td>\n",
       "      <td>programme_2</td>\n",
       "      <td>10</td>\n",
       "    </tr>\n",
       "    <tr>\n",
       "      <th>2</th>\n",
       "      <td>0</td>\n",
       "      <td>programme_3</td>\n",
       "      <td>12</td>\n",
       "    </tr>\n",
       "    <tr>\n",
       "      <th>3</th>\n",
       "      <td>0</td>\n",
       "      <td>programme_4</td>\n",
       "      <td>9</td>\n",
       "    </tr>\n",
       "    <tr>\n",
       "      <th>4</th>\n",
       "      <td>1</td>\n",
       "      <td>programme_1</td>\n",
       "      <td>12</td>\n",
       "    </tr>\n",
       "  </tbody>\n",
       "</table>\n",
       "</div>"
      ],
      "text/plain": [
       "   id    programme  number_of_tasks\n",
       "0   0  programme_1                9\n",
       "1   0  programme_2               10\n",
       "2   0  programme_3               12\n",
       "3   0  programme_4                9\n",
       "4   1  programme_1               12"
      ]
     },
     "execution_count": 20,
     "metadata": {},
     "output_type": "execute_result"
    }
   ],
   "source": [
    "stacked_data.head()"
   ]
  },
  {
   "cell_type": "code",
   "execution_count": 18,
   "id": "f8079164",
   "metadata": {},
   "outputs": [
    {
     "name": "stdout",
     "output_type": "stream",
     "text": [
      "     Multiple Comparison of Means - Tukey HSD, FWER=0.05      \n",
      "==============================================================\n",
      "   group1      group2   meandiff p-adj   lower   upper  reject\n",
      "--------------------------------------------------------------\n",
      "programme_1 programme_2     -3.0 0.0428 -5.9177 -0.0823   True\n",
      "programme_1 programme_3      0.4 0.9788 -2.5177  3.3177  False\n",
      "programme_1 programme_4     -3.2 0.0292 -6.1177 -0.2823   True\n",
      "programme_2 programme_3      3.4 0.0197  0.4823  6.3177   True\n",
      "programme_2 programme_4     -0.2 0.9972 -3.1177  2.7177  False\n",
      "programme_3 programme_4     -3.6 0.0133 -6.5177 -0.6823   True\n",
      "--------------------------------------------------------------\n"
     ]
    }
   ],
   "source": [
    "# Set up the data for comparison\n",
    "MultiComp = MultiComparison(stacked_data['number_of_tasks'], stacked_data['programme'])\n",
    "\n",
    "# Print the Tukey HSD post hoc test\n",
    "print(MultiComp.tukeyhsd().summary())"
   ]
  },
  {
   "cell_type": "code",
   "execution_count": 22,
   "id": "460f899e",
   "metadata": {},
   "outputs": [
    {
     "name": "stdout",
     "output_type": "stream",
     "text": [
      "The test statistic is 0.20635326233093226 and its p-value is 0.9019676438144987\n"
     ]
    }
   ],
   "source": [
    "# Import the required libraries\n",
    "import numpy as np\n",
    "from scipy.stats import jarque_bera\n",
    "\n",
    "# Generate the data by creating a random sample\n",
    "diameter_in_m = np.random.normal(loc=4, scale=0.7, size=6000) + np.random.normal(loc=5, scale=0.1, size=6000)\n",
    "\n",
    "# Conduct the normality test\n",
    "stat, p = jarque_bera(diameter_in_m)\n",
    "\n",
    "# Print the result\n",
    "print(\"The test statistic is\", stat, \"and its p-value is\", p)\n"
   ]
  },
  {
   "cell_type": "markdown",
   "id": "283c2f8b",
   "metadata": {},
   "source": [
    "## Chi Square Test\n",
    "\n",
    "* The Chi-Square test checks if there is a relationship between two categorical variables or if the actual (observed) data matches what we expect (expected data).\n",
    "\n",
    "* Goodness of Fit Test: Used to see if your observed data fits an expected distribution (e.g., checking if a die is fair).\n",
    "\n",
    "* Test of Independence: Used to find out if two variables are related (e.g., if gender and snack preference are connected).\n",
    "\n",
    "* **Question:** If you roll a die 60 times and expect each number to appear 10 times (since the die is fair), but the results are different, you can use the Chi-Square test to see if the die is actually fair or not."
   ]
  },
  {
   "cell_type": "code",
   "execution_count": 23,
   "id": "8038e33d",
   "metadata": {},
   "outputs": [],
   "source": [
    "from scipy.stats import chisquare\n",
    "\n",
    "# Observed rolls of the die (with values between 1 and 6)\n",
    "observed = [9, 11, 10, 8, 12, 10]\n",
    "\n",
    "# Expected rolls for a fair die (equal chances for each side)\n",
    "expected = [10, 10, 10, 10, 10, 10]\n"
   ]
  },
  {
   "cell_type": "markdown",
   "id": "ebcce864",
   "metadata": {},
   "source": [
    "**Explanation:**\n",
    "```\n",
    "Observed results: [9, 11, 10, 8, 12, 10]\n",
    "\n",
    "This means:\n",
    "Side 1 came up 9 times\n",
    "Side 2 came up 11 times\n",
    "Side 3 came up 10 times\n",
    "```"
   ]
  },
  {
   "cell_type": "code",
   "execution_count": 24,
   "id": "56fd17f0",
   "metadata": {},
   "outputs": [
    {
     "name": "stdout",
     "output_type": "stream",
     "text": [
      "Chi-Square Statistic: 1.0\n",
      "P-Value: 0.9625657732472964\n"
     ]
    }
   ],
   "source": [
    "# Perform the Chi-Square test\n",
    "chi_stat, p_value = chisquare(f_obs=observed, f_exp=expected)\n",
    "\n",
    "# Print the results\n",
    "print(\"Chi-Square Statistic:\", chi_stat)\n",
    "print(\"P-Value:\", p_value)\n"
   ]
  },
  {
   "cell_type": "code",
   "execution_count": 25,
   "id": "4022122b",
   "metadata": {},
   "outputs": [
    {
     "name": "stdout",
     "output_type": "stream",
     "text": [
      "The die is fair.\n"
     ]
    }
   ],
   "source": [
    "# Interpret the result\n",
    "if p_value < 0.05:\n",
    "    print(\"The die is not fair.\")\n",
    "else:\n",
    "    print(\"The die is fair.\")"
   ]
  },
  {
   "cell_type": "code",
   "execution_count": null,
   "id": "b566c30c",
   "metadata": {},
   "outputs": [],
   "source": []
  }
 ],
 "metadata": {
  "kernelspec": {
   "display_name": "Python 3 (ipykernel)",
   "language": "python",
   "name": "python3"
  },
  "language_info": {
   "codemirror_mode": {
    "name": "ipython",
    "version": 3
   },
   "file_extension": ".py",
   "mimetype": "text/x-python",
   "name": "python",
   "nbconvert_exporter": "python",
   "pygments_lexer": "ipython3",
   "version": "3.10.12"
  }
 },
 "nbformat": 4,
 "nbformat_minor": 5
}
