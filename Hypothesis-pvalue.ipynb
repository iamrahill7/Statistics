{
 "cells": [
  {
   "cell_type": "code",
   "execution_count": 1,
   "id": "f9a22647",
   "metadata": {},
   "outputs": [],
   "source": [
    "import pandas as pd\n",
    "import numpy as np\n",
    "\n",
    "import matplotlib.pyplot as plt\n",
    "import seaborn as sns\n",
    "\n",
    "import warnings\n",
    "warnings.filterwarnings('ignore')"
   ]
  },
  {
   "cell_type": "markdown",
   "id": "720252ba",
   "metadata": {},
   "source": [
    "## T Test\n",
    "\n",
    "A t-test is a type of inferential statistic which is used to determine if there is a significant difference between the means of two groups which may be related in certain features\n",
    "\n",
    "T-test has 2 types : 1. one sampled t-test 2. two-sampled t-test.\n",
    "\n",
    "\n",
    "##  One-sample T-test with Python\n",
    "\n",
    "The test will tell us whether means of the sample and the population are different\n",
    "\n",
    "![image.png](testone.png)"
   ]
  },
  {
   "cell_type": "code",
   "execution_count": 2,
   "id": "d7c05b2c",
   "metadata": {},
   "outputs": [],
   "source": [
    "ages=[10,20,35,50,28,40,55,18,16,55,30,25,43,18,30,28,14,24,16,17,32,35,26,27,65,18,43,23,21,20,19,70]\n"
   ]
  },
  {
   "cell_type": "code",
   "execution_count": 3,
   "id": "124c3b38",
   "metadata": {},
   "outputs": [
    {
     "data": {
      "text/plain": [
       "32"
      ]
     },
     "execution_count": 3,
     "metadata": {},
     "output_type": "execute_result"
    }
   ],
   "source": [
    "len(ages)"
   ]
  },
  {
   "cell_type": "code",
   "execution_count": 13,
   "id": "822e32c1",
   "metadata": {},
   "outputs": [
    {
     "name": "stdout",
     "output_type": "stream",
     "text": [
      "30.34375\n"
     ]
    }
   ],
   "source": [
    "import numpy as np\n",
    "ages_mean=np.mean(ages)\n",
    "print(ages_mean)\n",
    "     "
   ]
  },
  {
   "cell_type": "code",
   "execution_count": 5,
   "id": "32e70640",
   "metadata": {},
   "outputs": [],
   "source": [
    "sample_size=10\n",
    "age_sample=np.random.choice(ages,sample_size)"
   ]
  },
  {
   "cell_type": "code",
   "execution_count": 6,
   "id": "83f24ffb",
   "metadata": {},
   "outputs": [
    {
     "data": {
      "text/plain": [
       "array([20, 24, 35, 16, 30, 18, 43, 28, 32, 18])"
      ]
     },
     "execution_count": 6,
     "metadata": {},
     "output_type": "execute_result"
    }
   ],
   "source": [
    "age_sample"
   ]
  },
  {
   "cell_type": "code",
   "execution_count": 8,
   "id": "fff23d51",
   "metadata": {},
   "outputs": [],
   "source": [
    "from scipy.stats import ttest_1samp"
   ]
  },
  {
   "cell_type": "code",
   "execution_count": 9,
   "id": "5bb356f4",
   "metadata": {},
   "outputs": [],
   "source": [
    "ttest,p_value=ttest_1samp(age_sample,30)"
   ]
  },
  {
   "cell_type": "code",
   "execution_count": 10,
   "id": "c9bc9104",
   "metadata": {},
   "outputs": [
    {
     "name": "stdout",
     "output_type": "stream",
     "text": [
      "0.22659268251235035\n"
     ]
    }
   ],
   "source": [
    "print(p_value)"
   ]
  },
  {
   "cell_type": "markdown",
   "id": "1a7be875",
   "metadata": {},
   "source": [
    "**What is p_value?**\n",
    "* The p-value helps you decide whether to reject or accept the null hypothesis based on the observed data.\n",
    "* Here, observed data is `age_sample` and the number 30 is the expected value or the population mean you are comparing your sample data to. "
   ]
  },
  {
   "cell_type": "code",
   "execution_count": 11,
   "id": "879fffec",
   "metadata": {},
   "outputs": [
    {
     "name": "stdout",
     "output_type": "stream",
     "text": [
      "we are accepting null hypothesis\n"
     ]
    }
   ],
   "source": [
    "if p_value < 0.05:    # alpha value is 0.05 or 5%\n",
    "    print(\" we are rejecting null hypothesis\")\n",
    "else:\n",
    "    print(\"we are accepting null hypothesis\")"
   ]
  },
  {
   "cell_type": "markdown",
   "id": "602d058e",
   "metadata": {},
   "source": [
    "### Two-sample T-test With Python\n",
    "\n",
    "The Independent Samples t Test or 2-sample t-test compares the means of two independent groups in order to determine whether there is statistical evidence that the associated population means are significantly different. The Independent Samples t Test is a parametric test. This test is also known as: Independent t Test\n",
    "\n",
    "![image.png](testtwo.png)"
   ]
  },
  {
   "cell_type": "code",
   "execution_count": 12,
   "id": "47e81b13",
   "metadata": {},
   "outputs": [
    {
     "name": "stdout",
     "output_type": "stream",
     "text": [
      "Mean of Method A scores: 87.9\n",
      "Mean of Method B scores: 82.7\n",
      "p-value: 0.014547739130444387\n",
      "We are rejecting the null hypothesis. There is a significant difference between the two methods.\n"
     ]
    }
   ],
   "source": [
    "# Exam scores for Method A and Method B\n",
    "method_a_scores = [85, 90, 78, 92, 88, 95, 89, 84, 91, 87]\n",
    "method_b_scores = [80, 82, 79, 85, 83, 81, 86, 84, 77, 90]\n",
    "\n",
    "import numpy as np\n",
    "from scipy.stats import ttest_ind\n",
    "\n",
    "# Calculate means for both methods\n",
    "mean_a = np.mean(method_a_scores)\n",
    "mean_b = np.mean(method_b_scores)\n",
    "print(f\"Mean of Method A scores: {mean_a}\")\n",
    "print(f\"Mean of Method B scores: {mean_b}\")\n",
    "\n",
    "# Perform two-sample t-test\n",
    "t_stat, p_value = ttest_ind(method_a_scores, method_b_scores)\n",
    "\n",
    "print(f\"p-value: {p_value}\")\n",
    "\n",
    "# Hypothesis Testing\n",
    "if p_value < 0.05:    # alpha value is 0.05 or 5%\n",
    "    print(\"We are rejecting the null hypothesis. There is a significant difference between the two methods.\")\n",
    "else:\n",
    "    print(\"We are accepting the null hypothesis. There is no significant difference between the two methods.\")\n"
   ]
  },
  {
   "cell_type": "code",
   "execution_count": null,
   "id": "65a81986",
   "metadata": {},
   "outputs": [],
   "source": []
  }
 ],
 "metadata": {
  "kernelspec": {
   "display_name": "Python 3 (ipykernel)",
   "language": "python",
   "name": "python3"
  },
  "language_info": {
   "codemirror_mode": {
    "name": "ipython",
    "version": 3
   },
   "file_extension": ".py",
   "mimetype": "text/x-python",
   "name": "python",
   "nbconvert_exporter": "python",
   "pygments_lexer": "ipython3",
   "version": "3.10.12"
  }
 },
 "nbformat": 4,
 "nbformat_minor": 5
}
